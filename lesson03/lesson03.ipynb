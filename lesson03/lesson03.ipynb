{
 "cells": [
  {
   "cell_type": "markdown",
   "metadata": {},
   "source": [
    "# ДЗ №3"
   ]
  },
  {
   "cell_type": "code",
   "execution_count": 1,
   "metadata": {
    "colab": {},
    "colab_type": "code",
    "id": "zhwkeWtb1O0w"
   },
   "outputs": [],
   "source": [
    "import numpy as np\n",
    "import matplotlib.pyplot as plt"
   ]
  },
  {
   "cell_type": "code",
   "execution_count": 2,
   "metadata": {
    "colab": {},
    "colab_type": "code",
    "id": "FeKFn2yb1To4"
   },
   "outputs": [],
   "source": [
    "X = np.array([[1, 1, 1, 1, 1, 1, 1, 1, 1, 1],\n",
    "              [1, 1, 2, 5, 3, 0, 5, 10, 1, 2],\n",
    "              [500, 700, 750, 600, 1450, 800, 1500, 2000, 450, 1000],\n",
    "              [1, 1, 2, 1, 2,  1, 3, 3, 1, 2]], dtype = np.float64)\n",
    "y = np.array([0, 0, 1, 0, 1, 0, 1, 0, 1, 1], dtype = np.float64)"
   ]
  },
  {
   "cell_type": "code",
   "execution_count": 3,
   "metadata": {
    "colab": {},
    "colab_type": "code",
    "id": "M-aO1NTxOUfo"
   },
   "outputs": [],
   "source": [
    "def calc_std_feat(x):\n",
    "    res = (x - x.mean()) / x.std()\n",
    "    return res"
   ]
  },
  {
   "cell_type": "code",
   "execution_count": 4,
   "metadata": {
    "colab": {},
    "colab_type": "code",
    "id": "EEF9rWPNDnss"
   },
   "outputs": [],
   "source": [
    "def sigmoid(z):\n",
    "    res = 1 / (1 + np.exp(-z))\n",
    "    return res"
   ]
  },
  {
   "cell_type": "code",
   "execution_count": 5,
   "metadata": {
    "colab": {},
    "colab_type": "code",
    "id": "D8EL0iGJOVpe"
   },
   "outputs": [],
   "source": [
    "X_st = X.copy()\n",
    "X_st[2, :] = calc_std_feat(X[2, :])"
   ]
  },
  {
   "cell_type": "markdown",
   "metadata": {},
   "source": [
    "**1. Измените функцию calc_logloss так, чтобы нули по возможности не попадали в np.log.**"
   ]
  },
  {
   "cell_type": "code",
   "execution_count": 6,
   "metadata": {
    "colab": {},
    "colab_type": "code",
    "id": "qMR5pOA38dDw"
   },
   "outputs": [],
   "source": [
    "def calc_logloss(y, y_pred):\n",
    "    fixY = y_pred.copy().astype(np.float64)\n",
    "    fixY[fixY == 0] = 1e-16\n",
    "    fixY[fixY == 1] = 1 - 1e-16\n",
    "\n",
    "    err = - np.mean(y * np.log(fixY) + (1.0 - y) * np.log(1.0 - fixY))\n",
    "    err = np.sum(err)\n",
    "    return err"
   ]
  },
  {
   "cell_type": "code",
   "execution_count": 7,
   "metadata": {},
   "outputs": [
    {
     "data": {
      "text/plain": [
       "1.1102230246251565e-16"
      ]
     },
     "execution_count": 7,
     "metadata": {},
     "output_type": "execute_result"
    }
   ],
   "source": [
    "y1 = np.array([1, 0])\n",
    "y_pred1 = np.array([1, 0])\n",
    "calc_logloss(y1, y_pred1)"
   ]
  },
  {
   "cell_type": "markdown",
   "metadata": {},
   "source": [
    "**2. Подберите аргументы функции eval_model для логистической регрессии таким образом, чтобы log loss был минимальным.**"
   ]
  },
  {
   "cell_type": "code",
   "execution_count": 8,
   "metadata": {
    "colab": {},
    "colab_type": "code",
    "id": "qtgUN3LW-UIq"
   },
   "outputs": [],
   "source": [
    "def eval_model(X, y, iterations, alpha=1e-4, silent=False):\n",
    "    np.random.seed(42)\n",
    "    W = np.random.randn(X.shape[0])\n",
    "    n = X.shape[1]\n",
    "    for i in range(1, iterations+1):\n",
    "        z = np.dot(W, X)\n",
    "        y_pred = sigmoid(z)\n",
    "        err = calc_logloss(y, y_pred)\n",
    "        W -= alpha * (1/n * np.dot((y_pred - y), X.T))\n",
    "        if i % (iterations / 10) == 0 and not silent:\n",
    "            print(i, W, err)\n",
    "    return W"
   ]
  },
  {
   "cell_type": "code",
   "execution_count": 9,
   "metadata": {
    "colab": {
     "base_uri": "https://localhost:8080/",
     "height": 190
    },
    "colab_type": "code",
    "id": "oqX7loklBmYZ",
    "outputId": "f4849295-1f14-40d8-c8f2-d1b002e130c5"
   },
   "outputs": [
    {
     "name": "stdout",
     "output_type": "stream",
     "text": [
      "500 [-258.33110146  -33.3669239   -61.07162924  228.73396005] 0.008461406036611033\n",
      "1000 [-260.45265086  -35.07801953  -66.849021    226.61241069] 0.0062813706359284485\n",
      "1500 [-262.00046192  -36.50927406  -71.21734151  225.09085573] 0.005039905664549596\n",
      "2000 [-263.57477762  -35.78423871  -72.47274677  224.65886792] 0.00477556708901995\n",
      "2500 [-265.1174777   -34.80188006  -73.28936497  224.3771585 ] 0.004580694290154595\n",
      "3000 [-266.59829284  -33.85952296  -74.07296694  224.10758806] 0.00440124184799473\n",
      "3500 [-268.02259248  -32.95325755  -74.82660239  223.84849051] 0.004235248260563759\n",
      "4000 [-269.39463024  -32.08027117  -75.55256561  223.59894481] 0.004081219335167959\n",
      "4500 [-270.71810254  -31.23818828  -76.25282306  223.35824487] 0.003937904406971092\n",
      "5000 [-271.99630737  -30.42490529  -76.9291229   223.12578251] 0.0038042273136502844\n"
     ]
    }
   ],
   "source": [
    "W = eval_model(X_st, y, iterations=5000, alpha=42)"
   ]
  },
  {
   "cell_type": "markdown",
   "metadata": {},
   "source": [
    "**3. Создайте функцию calc_pred_proba, возвращающую предсказанную вероятность класса 1 (на вход подаются W, который уже посчитан функцией eval_model и X, на выходе - массив y_pred_proba).**"
   ]
  },
  {
   "cell_type": "code",
   "execution_count": 10,
   "metadata": {},
   "outputs": [
    {
     "name": "stdout",
     "output_type": "stream",
     "text": [
      "Для посчитанных выше W\n",
      "Вероятность отнесения обьекта к классу 1\n",
      " обьект  1 =    1.91 % реальный класс = 0\n",
      " обьект  2 =    0.00 % реальный класс = 0\n",
      " обьект  3 =  100.00 % реальный класс = 1\n",
      " обьект  4 =    0.00 % реальный класс = 0\n",
      " обьект  5 =   99.95 % реальный класс = 1\n",
      " обьект  6 =    0.00 % реальный класс = 0\n",
      " обьект  7 =  100.00 % реальный класс = 1\n",
      " обьект  8 =    0.00 % реальный класс = 0\n",
      " обьект  9 =   98.19 % реальный класс = 1\n",
      " обьект 10 =  100.00 % реальный класс = 1\n",
      "\n",
      "Проверим на плохих параметрах\n",
      "Вероятность отнесения обьекта к классу 1\n",
      " обьект  1 =   34.93 % реальный класс = 0\n",
      " обьект  2 =   16.43 % реальный класс = 0\n",
      " обьект  3 =   99.73 % реальный класс = 1\n",
      " обьект  4 =    0.13 % реальный класс = 0\n",
      " обьект  5 =   73.17 % реальный класс = 1\n",
      " обьект  6 =   32.28 % реальный класс = 0\n",
      " обьект  7 =   99.92 % реальный класс = 1\n",
      " обьект  8 =    9.09 % реальный класс = 0\n",
      " обьект  9 =   40.83 % реальный класс = 1\n",
      " обьект 10 =   99.05 % реальный класс = 1\n"
     ]
    }
   ],
   "source": [
    "def calc_pred_proba(w, x):\n",
    "    z = np.dot(w, x)\n",
    "    return sigmoid(z)\n",
    "\n",
    "def print_proba(y_pred_proba, y):\n",
    "    print('Вероятность отнесения обьекта к классу 1')\n",
    "    for i in range(len(y)):\n",
    "        print(f' обьект {i+1:2.0f} = {100*y_pred_proba[i]:7.2f} % реальный класс = {int(y[i])}')\n",
    "\n",
    "print('Для посчитанных выше W')\n",
    "y_pred_proba = calc_pred_proba(W, X_st)\n",
    "print_proba(y_pred_proba, y)\n",
    "\n",
    "\n",
    "print('\\nПроверим на плохих параметрах')\n",
    "t = eval_model(X_st, y, iterations=1000, alpha=1, silent=True)\n",
    "y_pred_proba = calc_pred_proba(t, X_st)\n",
    "print_proba(y_pred_proba, y)"
   ]
  },
  {
   "cell_type": "markdown",
   "metadata": {},
   "source": [
    "**4. Создайте функцию calc_pred, возвращающую предсказанный класс (на вход подаются W, который уже посчитан функцией eval_model и X, на выходе - массив y_pred).**"
   ]
  },
  {
   "cell_type": "code",
   "execution_count": 11,
   "metadata": {},
   "outputs": [
    {
     "name": "stdout",
     "output_type": "stream",
     "text": [
      "Для посчитанных выше W\n",
      "обьект | реальный | предсказанный | ошибка\n",
      "    1 |    0    |     0      | \n",
      "    2 |    0    |     0      | \n",
      "    3 |    1    |     1      | \n",
      "    4 |    0    |     0      | \n",
      "    5 |    1    |     1      | \n",
      "    6 |    0    |     0      | \n",
      "    7 |    1    |     1      | \n",
      "    8 |    0    |     0      | \n",
      "    9 |    1    |     1      | \n",
      "   10 |    1    |     1      | \n",
      "Модель ошиблась 0 раз(а)\n",
      "\n",
      "Проверим на плохих параметрах\n",
      "обьект | реальный | предсказанный | ошибка\n",
      "    1 |    0    |     0      | \n",
      "    2 |    0    |     0      | \n",
      "    3 |    1    |     1      | \n",
      "    4 |    0    |     0      | \n",
      "    5 |    1    |     1      | \n",
      "    6 |    0    |     1      | FP\n",
      "    7 |    1    |     1      | \n",
      "    8 |    0    |     0      | \n",
      "    9 |    1    |     0      | FN\n",
      "   10 |    1    |     1      | \n",
      "Модель ошиблась 2 раз(а)\n"
     ]
    }
   ],
   "source": [
    "def calc_pred(w, x):\n",
    "    proba = calc_pred_proba(w, x)\n",
    "    proba[proba <= 0.5] = 0\n",
    "    proba[proba > 0.5] = 1\n",
    "    proba = proba.astype(np.int8)\n",
    "    return proba\n",
    "\n",
    "def print_pred(y_pred, y):\n",
    "    cnt = 0\n",
    "    print(f'обьект | реальный | предсказанный | ошибка')\n",
    "    for i in range(len(y)):\n",
    "        err = int(y[i])-y_pred[i] != 0\n",
    "        if err:\n",
    "            cnt += 1\n",
    "            err = 'FN' if y[i] == 1 else 'FP'\n",
    "        else:\n",
    "            err = ''\n",
    "        print(f'{i+1:5.0f} | {int(y[i]):^7.0f} | {y_pred[i]:^10.0f} | {err}')\n",
    "    print(f'Модель ошиблась {cnt} раз(а)')\n",
    "\n",
    "print('Для посчитанных выше W')\n",
    "p = calc_pred(W, X_st)\n",
    "print_pred(p, y)\n",
    "\n",
    "print('\\nПроверим на плохих параметрах')\n",
    "t = eval_model(X_st, y, iterations=1000, alpha=0.1, silent=True)\n",
    "p = calc_pred(t, X_st)\n",
    "print_pred(p, y)"
   ]
  },
  {
   "cell_type": "markdown",
   "metadata": {},
   "source": [
    "**5. Посчитайте Accuracy, матрицу ошибок, точность и полноту, а также F1 score.**"
   ]
  },
  {
   "cell_type": "code",
   "execution_count": 12,
   "metadata": {},
   "outputs": [
    {
     "name": "stdout",
     "output_type": "stream",
     "text": [
      "обьект | реальный | предсказанный | ошибка\n",
      "    1 |    0    |     0      | \n",
      "    2 |    0    |     1      | FP\n",
      "    3 |    1    |     1      | \n",
      "    4 |    0    |     0      | \n",
      "    5 |    1    |     1      | \n",
      "    6 |    0    |     1      | FP\n",
      "    7 |    1    |     1      | \n",
      "    8 |    0    |     0      | \n",
      "    9 |    1    |     0      | FN\n",
      "   10 |    1    |     1      | \n",
      "Модель ошиблась 3 раз(а)\n",
      "Accuracy = 0.7\n",
      "Confusion Matrix = [[3. 2.]\n",
      " [1. 4.]]\n",
      "Precision = 0.6\n",
      "Recall = 0.75\n",
      "F1 score = 0.6666666666666665\n"
     ]
    }
   ],
   "source": [
    "t = eval_model(X_st, y, iterations=1000, alpha=0.01, silent=True)\n",
    "y_pred = calc_pred(t, X_st)\n",
    "print_pred(y_pred, y)\n",
    "\n",
    "def accuracy(y_pred, y):\n",
    "    a = y_pred == y\n",
    "    return len(a[a]) / len(y)\n",
    "\n",
    "def confusion_matrix(y_pred, y):\n",
    "    result = np.zeros((2, 2))\n",
    "    for i in range(len(y)):\n",
    "        result[int(y[i])][y_pred[i]] += 1\n",
    "    return result\n",
    "\n",
    "def precision(y_pred, y):\n",
    "    (tp, fp), (fn, tn) = confusion_matrix(y_pred, y)\n",
    "    return tp / (tp + fp)\n",
    "\n",
    "def recall(y_pred, y):\n",
    "    (tp, fp), (fn, tn) = confusion_matrix(y_pred, y)\n",
    "    return tp / (tp + fn)\n",
    "\n",
    "def f1_score(y_pred, y):\n",
    "    pr = precision(y_pred, y)\n",
    "    re = recall(y_pred, y)\n",
    "    return 2 * pr * re / (pr + re)\n",
    "    \n",
    "print('Accuracy =', accuracy(y_pred, y))\n",
    "print('Confusion Matrix =', confusion_matrix(y_pred, y))\n",
    "print('Precision =', precision(y_pred, y))\n",
    "print('Recall =', recall(y_pred, y))\n",
    "print('F1 score =', f1_score(y_pred, y))"
   ]
  },
  {
   "cell_type": "markdown",
   "metadata": {},
   "source": [
    "**6. Могла ли модель переобучиться? Почему?**"
   ]
  },
  {
   "cell_type": "markdown",
   "metadata": {},
   "source": [
    "> **тут я не уверен в ответе :) но думаю что модель точно переобучена потому что мы ее обучали на всех данных и целью было подобрать такие коэф которые сведут ошибку к минимуму - итого мы получили коэф которые идеально подходят для наших тренировчных данных но думаю такая модель не будет работать для реальных тестовых данных.**\n",
    "\n",
    "> **Чтобы это исправить надо использовать кроссвалидацию но у нас очень мало данных :)**"
   ]
  },
  {
   "cell_type": "markdown",
   "metadata": {},
   "source": [
    "**7. Создайте функции eval_model_l1 и eval_model_l2 с применением L1 и L2 регуляризаций соответственно.**"
   ]
  },
  {
   "cell_type": "code",
   "execution_count": 13,
   "metadata": {},
   "outputs": [
    {
     "name": "stdout",
     "output_type": "stream",
     "text": [
      "500 [-269.8938675   -25.49166258  -78.88978005  224.29948953] 0.29292099265824445\n",
      "1000 [-274.70446305  -37.44861287  -75.3546317   234.47419579] 0.004100218506447801\n",
      "1500 [-276.01794672  -36.70877811  -76.1975528   234.18566047] 0.003949082954231086\n",
      "2000 [-277.2997177   -35.89281731  -76.87590123  233.95198172] 0.0038145943910140603\n",
      "2500 [-278.53875648  -35.1041682   -77.53156816  233.72626591] 0.0036889408905593224\n",
      "3000 [-279.73792273  -34.34092322  -78.16611903  233.50785523] 0.0035712489262766586\n",
      "3500 [-280.89971699  -33.60146498  -78.78088806  233.29625793] 0.0034607795565089563\n",
      "4000 [-282.02638993  -32.88435409  -79.37706962  233.09105392] 0.003356888452171172\n",
      "4500 [-283.11998931  -32.18828564  -79.95574851  232.89186747] 0.003259007156210739\n",
      "5000 [-284.18238784  -31.51206765  -80.51791624  232.69835686] 0.003166631134450446\n"
     ]
    },
    {
     "data": {
      "text/plain": [
       "array([-284.18238784,  -31.51206765,  -80.51791624,  232.69835686])"
      ]
     },
     "execution_count": 13,
     "metadata": {},
     "output_type": "execute_result"
    }
   ],
   "source": [
    "def eval_model_reg1(X, y, iterations, alpha=1e-4, l1=1e-8):\n",
    "    np.random.seed(42)\n",
    "    W = np.random.randn(X.shape[0])\n",
    "    n = X.shape[1]\n",
    "    for i in range(1, iterations+1):\n",
    "        z = np.dot(W, X)\n",
    "        y_pred = sigmoid(z)\n",
    "        err = calc_logloss(y, y_pred)\n",
    "        W -= alpha * (1/n * np.dot((y_pred - y), X.T) + l1 * np.sign(W))\n",
    "        if i % (iterations / 10) == 0:\n",
    "            print(i, W, err)\n",
    "    return W\n",
    "\n",
    "eval_model_reg1(X_st, y, iterations=5000, alpha=42, l1=1e-8)"
   ]
  },
  {
   "cell_type": "code",
   "execution_count": 14,
   "metadata": {},
   "outputs": [
    {
     "name": "stdout",
     "output_type": "stream",
     "text": [
      "500 [-245.38375076  -31.84211646  -58.40731929  217.00861796] 0.009686504143151437\n",
      "1000 [-247.67487732  -33.66387609  -64.62191813  214.71703217] 0.007032388346775815\n",
      "1500 [-249.41660616  -34.43492196  -68.32438584  213.4287215 ] 0.005897314256597167\n",
      "2000 [-251.22183164  -33.28638622  -69.28575455  213.09446795] 0.005616472924015257\n",
      "2500 [-252.94148863  -32.19158445  -70.19597915  212.78072932] 0.005362233749426475\n",
      "3000 [-254.58539012  -31.14538602  -71.06594034  212.48134372] 0.005129976381178233\n",
      "3500 [-256.16028528  -30.14315972  -71.89934605  212.19461798] 0.0049168233156175\n",
      "4000 [-257.67174912  -29.18129866  -72.69917228  211.91945351] 0.00472049822647531\n",
      "4500 [-259.12465474  -28.25669162  -73.46800371  211.65494711] 0.004539092070801644\n",
      "5000 [-260.52332717  -27.36658529  -74.20813112  211.40030828] 0.00437097657522742\n"
     ]
    },
    {
     "data": {
      "text/plain": [
       "array([-260.52332717,  -27.36658529,  -74.20813112,  211.40030828])"
      ]
     },
     "execution_count": 14,
     "metadata": {},
     "output_type": "execute_result"
    }
   ],
   "source": [
    "def eval_model_reg2(X, y, iterations, alpha=1e-4, l2=1e-8):\n",
    "    np.random.seed(42)\n",
    "    W = np.random.randn(X.shape[0])\n",
    "    n = X.shape[1]\n",
    "    for i in range(1, iterations+1):\n",
    "        z = np.dot(W, X)\n",
    "        y_pred = sigmoid(z)\n",
    "        err = calc_logloss(y, y_pred)\n",
    "        W -= alpha * (1/n * 2 * np.dot((y_pred - y), X.T) + l2 * W)\n",
    "        if i % (iterations / 10) == 0:\n",
    "            print(i, W, err)\n",
    "    return W\n",
    "\n",
    "eval_model_reg2(X_st, y, iterations=5000, alpha=20, l2=1e-10)"
   ]
  }
 ],
 "metadata": {
  "colab": {
   "collapsed_sections": [],
   "name": "Lesson3.ipynb",
   "provenance": []
  },
  "kernelspec": {
   "display_name": "Python 3",
   "language": "python",
   "name": "python3"
  },
  "language_info": {
   "codemirror_mode": {
    "name": "ipython",
    "version": 3
   },
   "file_extension": ".py",
   "mimetype": "text/x-python",
   "name": "python",
   "nbconvert_exporter": "python",
   "pygments_lexer": "ipython3",
   "version": "3.7.1"
  }
 },
 "nbformat": 4,
 "nbformat_minor": 1
}
