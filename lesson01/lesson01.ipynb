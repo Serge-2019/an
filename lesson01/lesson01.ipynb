{
 "cells": [
  {
   "cell_type": "markdown",
   "metadata": {},
   "source": [
    "### Д/З"
   ]
  },
  {
   "cell_type": "code",
   "execution_count": 1,
   "metadata": {
    "colab": {},
    "colab_type": "code",
    "id": "ak8b3KV45kVW"
   },
   "outputs": [],
   "source": [
    "import numpy as np\n",
    "import matplotlib.pyplot as plt\n",
    "\n",
    "def calc_mae(y, y_pred):\n",
    "    err = np.mean(np.abs(y - y_pred))\n",
    "    return err\n",
    "\n",
    "def calc_mse(y, y_pred):\n",
    "    err = np.mean((y - y_pred)**2) # <=> 1/n * np.sum((y_pred - y)**2)\n",
    "    return err\n",
    "\n",
    "\n",
    "X = np.array([[1, 1, 1, 1, 1, 1, 1, 1, 1, 1],\n",
    "              [1, 1, 2, 5, 3, 0, 5, 10, 1, 2]])\n",
    "y = [45, 55, 50, 55, 60, 35, 75, 80, 50, 60]"
   ]
  },
  {
   "cell_type": "markdown",
   "metadata": {
    "colab_type": "text",
    "id": "huXrhXQsZTMt"
   },
   "source": [
    "**1. Подберите скорость обучения (alpha) и количество итераций**"
   ]
  },
  {
   "cell_type": "code",
   "execution_count": 2,
   "metadata": {
    "colab": {
     "base_uri": "https://localhost:8080/",
     "height": 185
    },
    "colab_type": "code",
    "id": "IDB22MQKMYaJ",
    "outputId": "4c03219e-a57c-4583-f439-6699fd0619bb"
   },
   "outputs": [
    {
     "name": "stdout",
     "output_type": "stream",
     "text": [
      "Number of objects = 10        \n",
      "Learning rate = 0.055        \n",
      "Initial weights = [1.  0.5] \n",
      "\n",
      "Iteration #0: W_new = [ 6.94  21.235], MSE = 3047.75\n",
      "Iteration #10: W_new = [22.06405765 13.06063842], MSE = 848.44\n",
      "Iteration #20: W_new = [31.21345509  8.7771262 ], MSE = 268.66\n",
      "Iteration #30: W_new = [36.73513379  6.50786479], MSE = 109.6\n",
      "Iteration #40: W_new = [40.06112387  5.29211526], MSE = 64.0\n",
      "Iteration #50: W_new = [42.06149781  4.63338341], MSE = 50.33\n",
      "Iteration #60: W_new = [43.26313928  4.2724736 ], MSE = 46.05\n",
      "Iteration #70: W_new = [43.98427548  4.07261073], MSE = 44.67\n",
      "Iteration #80: W_new = [44.41671151  3.96081125], MSE = 44.21\n",
      "Iteration #90: W_new = [44.67586386  3.89768846], MSE = 44.05\n",
      "Iteration #100: W_new = [44.83109194  3.86174724], MSE = 44.0\n",
      "Iteration #110: W_new = [44.92403348  3.84112851], MSE = 43.98\n",
      "Iteration #120: W_new = [44.97966334  3.82922172], MSE = 43.97\n",
      "Iteration #130: W_new = [45.01295168  3.82230646], MSE = 43.97\n",
      "END Iteration #135: W_new = [45.02398086  3.81891374], MSE = 43.96953\n"
     ]
    }
   ],
   "source": [
    "n = X.shape[1]\n",
    "alpha = 0.055\n",
    "W = np.array([1, 0.5])\n",
    "print(f'Number of objects = {n} \\\n",
    "       \\nLearning rate = {alpha} \\\n",
    "       \\nInitial weights = {W} \\n')\n",
    "\n",
    "for i in range(136):\n",
    "    y_pred = np.dot(W, X)\n",
    "    err = calc_mse(y, y_pred)\n",
    "\n",
    "    for k in range(W.shape[0]):\n",
    "        W[k] -= alpha * (1/n * 2 * np.sum(X[k] * (y_pred - y)))\n",
    "    if i % 10 == 0:\n",
    "        print(f'Iteration #{i}: W_new = {W}, MSE = {round(err,2)}')\n",
    "\n",
    "print(f'END Iteration #{i}: W_new = {W}, MSE = {round(err,5)}')"
   ]
  },
  {
   "cell_type": "markdown",
   "metadata": {
    "colab_type": "text",
    "id": "5Qu1o4JhZYwI"
   },
   "source": [
    "**2. В этом коде мы избавляемся от итераций по весам, но тут есть ошибка, исправьте ее**"
   ]
  },
  {
   "cell_type": "code",
   "execution_count": 3,
   "metadata": {
    "colab": {
     "base_uri": "https://localhost:8080/",
     "height": 185
    },
    "colab_type": "code",
    "id": "WZZzDCQLY4pA",
    "outputId": "28f58ade-72f2-4381-809d-2417752d56e4"
   },
   "outputs": [
    {
     "name": "stdout",
     "output_type": "stream",
     "text": [
      "Number of objects = 10        \n",
      "Learning rate = 0.055        \n",
      "Initial weights = [1.  0.5] \n",
      "\n",
      "Iteration #0: W_new = [ 6.94  21.235], MSE = 3047.75\n",
      "Iteration #10: W_new = [22.06405765 13.06063842], MSE = 848.44\n",
      "Iteration #20: W_new = [31.21345509  8.7771262 ], MSE = 268.66\n",
      "Iteration #30: W_new = [36.73513379  6.50786479], MSE = 109.6\n",
      "Iteration #40: W_new = [40.06112387  5.29211526], MSE = 64.0\n",
      "Iteration #50: W_new = [42.06149781  4.63338341], MSE = 50.33\n",
      "Iteration #60: W_new = [43.26313928  4.2724736 ], MSE = 46.05\n",
      "Iteration #70: W_new = [43.98427548  4.07261073], MSE = 44.67\n",
      "Iteration #80: W_new = [44.41671151  3.96081125], MSE = 44.21\n",
      "Iteration #90: W_new = [44.67586386  3.89768846], MSE = 44.05\n",
      "Iteration #100: W_new = [44.83109194  3.86174724], MSE = 44.0\n",
      "Iteration #110: W_new = [44.92403348  3.84112851], MSE = 43.98\n",
      "Iteration #120: W_new = [44.97966334  3.82922172], MSE = 43.97\n",
      "Iteration #130: W_new = [45.01295168  3.82230646], MSE = 43.97\n",
      "END Iteration #135: W_new = [45.02398086  3.81891374], MSE = 43.96953\n"
     ]
    }
   ],
   "source": [
    "n = X.shape[1]\n",
    "alpha = 0.055\n",
    "W = np.array([1, 0.5])\n",
    "print(f'Number of objects = {n} \\\n",
    "       \\nLearning rate = {alpha} \\\n",
    "       \\nInitial weights = {W} \\n')\n",
    "\n",
    "for i in range(136):\n",
    "    y_pred = np.dot(W, X)\n",
    "    err = calc_mse(y, y_pred)\n",
    "    \n",
    "    W -= alpha * 1/n * 2 * (X @ (y_pred - y))\n",
    "    \n",
    "    if i % 10 == 0:\n",
    "        print(f'Iteration #{i}: W_new = {W}, MSE = {round(err,2)}')\n",
    "\n",
    "print(f'END Iteration #{i}: W_new = {W}, MSE = {round(err,5)}')"
   ]
  },
  {
   "cell_type": "markdown",
   "metadata": {
    "colab_type": "text",
    "id": "5Qu1o4JhZYwI"
   },
   "source": [
    "**3. вместо того, чтобы задавать количество итераций, задайте условие остановки алгоритма - когда ошибка за итерацию начинает изменяться ниже определенного порога (упрощенный аналог параметра tol в линейной регрессии в sklearn)**"
   ]
  },
  {
   "cell_type": "code",
   "execution_count": 4,
   "metadata": {
    "colab": {
     "base_uri": "https://localhost:8080/",
     "height": 185
    },
    "colab_type": "code",
    "id": "WZZzDCQLY4pA",
    "outputId": "28f58ade-72f2-4381-809d-2417752d56e4"
   },
   "outputs": [
    {
     "name": "stdout",
     "output_type": "stream",
     "text": [
      "END Iteration #135: W_new = [45.02216011  3.82042922], MSE = 43.96953\n"
     ]
    }
   ],
   "source": [
    "n = X.shape[1]\n",
    "alpha = 0.055\n",
    "W = np.array([1, 0.5])\n",
    "\n",
    "i = 0\n",
    "max_iter = 1000\n",
    "tol = 0.0001\n",
    "me = 0\n",
    "err = 999999999\n",
    "\n",
    "while i < max_iter and abs(me-err) > tol:\n",
    "    me = err\n",
    "    y_pred = np.dot(W, X)\n",
    "    err = calc_mse(y, y_pred)\n",
    "    W -= alpha * 1/n * 2 * (X @ (y_pred - y))\n",
    "    i += 1\n",
    "\n",
    "y_pred = np.dot(W, X)\n",
    "err = calc_mse(y, y_pred)\n",
    "print(f'END Iteration #{i}: W_new = {W}, MSE = {round(err,5)}')"
   ]
  },
  {
   "cell_type": "markdown",
   "metadata": {
    "colab_type": "text",
    "id": "5Qu1o4JhZYwI"
   },
   "source": [
    "**4. (EXPIREMENT :)) попробуем подобрать alpha**"
   ]
  },
  {
   "cell_type": "code",
   "execution_count": 5,
   "metadata": {
    "colab": {
     "base_uri": "https://localhost:8080/",
     "height": 185
    },
    "colab_type": "code",
    "id": "WZZzDCQLY4pA",
    "outputId": "28f58ade-72f2-4381-809d-2417752d56e4"
   },
   "outputs": [
    {
     "name": "stdout",
     "output_type": "stream",
     "text": [
      "Iteration #0: W_new = [2.08 4.27], MSE = 3047.75\n",
      "Iteration #10: W_new = [22.79731037  9.42872705], MSE = 344.83405\n",
      "Iteration #20: W_new = [30.85808107  6.35856633], MSE = 154.46837\n",
      "Iteration #30: W_new = [36.8806105   5.29913086], MSE = 78.58793\n",
      "Iteration #40: W_new = [40.72823814  4.54447338], MSE = 53.66481\n",
      "Iteration #50: W_new = [42.91953166  4.07605309], MSE = 46.66612\n",
      "Iteration #60: W_new = [43.74063292  4.05480834], MSE = 44.92706\n",
      "Iteration #70: W_new = [44.30045341  3.95042435], MSE = 44.26899\n",
      "Iteration #80: W_new = [44.66057969  3.89012442], MSE = 44.05231\n",
      "Iteration #90: W_new = [44.86690552  3.8589538 ], MSE = 43.99212\n",
      "Iteration #100: W_new = [44.93931604  3.83460837], MSE = 43.97706\n",
      "Iteration #110: W_new = [44.99154143  3.82539018], MSE = 43.97135\n",
      "END Iteration #119: W_new = [45.03027588  3.8301515 ], MSE = 43.96965\n"
     ]
    }
   ],
   "source": [
    "n = X.shape[1]\n",
    "W = np.array([1, 0.5])\n",
    "\n",
    "i = 0\n",
    "max_iter = 1000\n",
    "tol = 0.0001\n",
    "me = 0\n",
    "err = 999999999\n",
    "\n",
    "alpha = 0.01\n",
    "step = 0.01\n",
    "\n",
    "while i < max_iter and abs(me-err) > tol:\n",
    "    me = err\n",
    "    y_pred = np.dot(W, X)\n",
    "    err = calc_mse(y, y_pred)\n",
    "    W -= alpha * 1/n * 2 * (X @ (y_pred - y))\n",
    "    sgn = (me - err) / abs(err - me)\n",
    "    if i % 10 == 0:\n",
    "        print(f'Iteration #{i}: W_new = {W}, MSE = {round(err,5)}')\n",
    "    i += 1\n",
    "\n",
    "    if sgn > 0:\n",
    "        alpha += sgn * step\n",
    "    else:\n",
    "        W += alpha * 1/n * 2 * (X @ (y_pred - y))\n",
    "        alpha = 0.01\n",
    "        y_pred = np.dot(W, X)\n",
    "        W -= alpha * 1/n * 2 * (X @ (y_pred - y))\n",
    "        err = calc_mse(y, y_pred)\n",
    "    \n",
    "print(f'END Iteration #{i}: W_new = {W}, MSE = {round(err,5)}')"
   ]
  }
 ],
 "metadata": {
  "colab": {
   "collapsed_sections": [],
   "name": "Lesson1.ipynb",
   "provenance": []
  },
  "kernelspec": {
   "display_name": "Python 3",
   "language": "python",
   "name": "python3"
  },
  "language_info": {
   "codemirror_mode": {
    "name": "ipython",
    "version": 3
   },
   "file_extension": ".py",
   "mimetype": "text/x-python",
   "name": "python",
   "nbconvert_exporter": "python",
   "pygments_lexer": "ipython3",
   "version": "3.7.1"
  }
 },
 "nbformat": 4,
 "nbformat_minor": 1
}
