{
 "cells": [
  {
   "cell_type": "markdown",
   "metadata": {
    "colab_type": "text",
    "id": "FM6XV3IlabW_"
   },
   "source": [
    "# ДЗ №4"
   ]
  },
  {
   "cell_type": "code",
   "execution_count": 1,
   "metadata": {
    "colab": {},
    "colab_type": "code",
    "id": "u7Xi827dabXb"
   },
   "outputs": [],
   "source": [
    "import numpy as np\n",
    "import random\n",
    "from sklearn import datasets\n",
    "from sklearn import model_selection\n",
    "from sklearn.metrics import accuracy_score, r2_score\n",
    "\n",
    "import matplotlib.pyplot as plt\n",
    "from matplotlib.colors import ListedColormap\n",
    "%matplotlib inline"
   ]
  },
  {
   "cell_type": "markdown",
   "metadata": {},
   "source": [
    "### Подготовим данные"
   ]
  },
  {
   "cell_type": "code",
   "execution_count": 2,
   "metadata": {},
   "outputs": [
    {
     "data": {
      "image/png": "[encoded data removed]",
      "text/plain": [
       "<Figure size 864x576 with 1 Axes>"
      ]
     },
     "metadata": {
      "needs_background": "light"
     },
     "output_type": "display_data"
    }
   ],
   "source": [
    "plt.figure(figsize=(12,8))\n",
    "X, y = datasets.make_regression(n_features = 2, n_informative = 2, random_state=42)\n",
    "plt.scatter(x=X[:, 0], y=X[:, 1], c=y)\n",
    "plt.show()"
   ]
  },
  {
   "cell_type": "markdown",
   "metadata": {
    "colab_type": "text",
    "id": "FM6XV3IlabW_"
   },
   "source": [
    "### Создадим классы согласно заданию\n",
    "\n",
    "1. В коде из методички реализуйте один или несколько из критериев останова (количество листьев, количество используемых признаков, глубина дерева и т.д.)\n",
    "\n",
    "2. Реализуйте дерево для задачи регрессии. Возьмите за основу дерево, реализованное в методичке, заменив механизм предсказания в листе на взятие среднего значения по выборке, и критерий Джини на дисперсию значений."
   ]
  },
  {
   "cell_type": "code",
   "execution_count": 3,
   "metadata": {
    "colab": {},
    "colab_type": "code",
    "id": "Duu45IJUabXi"
   },
   "outputs": [],
   "source": [
    "class Node:\n",
    "    \n",
    "    def __init__(self, index, t, true_branch, false_branch):\n",
    "        self.index = index  # индекс признака, по которому ведется сравнение с порогом в этом узле\n",
    "        self.t = t  # значение порога\n",
    "        self.true_branch = true_branch  # поддерево, удовлетворяющее условию в узле\n",
    "        self.false_branch = false_branch  # поддерево, не удовлетворяющее условию в узле\n",
    "\n",
    "        \n",
    "class Leaf:\n",
    "    \n",
    "    def __init__(self, x, y):\n",
    "        self.x = x\n",
    "        self.y = y\n",
    "        self.prediction = np.mean(self.y) # среднее\n",
    "        \n",
    "\n",
    "class DecisionTreeRegressor:\n",
    "    \n",
    "    def __init__(self, min_samples_leaf=5, max_depth=None, max_features=None):\n",
    "        self.min_samples_leaf = min_samples_leaf\n",
    "        self.max_depth = max_depth\n",
    "        self.max_features = max_features\n",
    "        \n",
    "    def dispersion(self, values):\n",
    "        m = values.mean()\n",
    "        return np.mean((values - m) ** 2)\n",
    "    \n",
    "    def quality(self, left_values, right_values, current_dispersion):\n",
    "        p = float(left_values.shape[0]) / (left_values.shape[0] + right_values.shape[0])\n",
    "        return current_dispersion - p * self.dispersion(left_values) - (1 - p) * self.dispersion(right_values)\n",
    "    \n",
    "    def split(self, x, y, index, t):\n",
    "        left = np.where(x[:, index] <= t)\n",
    "        right = np.where(x[:, index] > t)\n",
    "\n",
    "        true_data = x[left]\n",
    "        false_data = x[right]\n",
    "        true_y = y[left]\n",
    "        false_y = y[right]\n",
    "        \n",
    "        return true_data, false_data, true_y, false_y\n",
    "    \n",
    "    def find_best_split(self, x, y):\n",
    "        current_dispersion = self.dispersion(y)\n",
    "\n",
    "        best_t = None\n",
    "        best_index = None\n",
    "        best_quality = 0\n",
    "\n",
    "        for index in range(self.n_features):\n",
    "            t_values = x[:, index]\n",
    "            for t in t_values:\n",
    "                true_data, false_data, true_y, false_y = self.split(x, y, index, t)\n",
    "\n",
    "                #  пропускаем разбиения, в которых в узле остается менее 5 объектов\n",
    "                if len(true_data) < self.min_samples_leaf or len(false_data) < self.min_samples_leaf:\n",
    "                    continue\n",
    "\n",
    "                current_quality = self.quality(true_y, false_y, current_dispersion)\n",
    "                if current_quality > best_quality:\n",
    "                    best_quality, best_t, best_index = current_quality, t, index\n",
    "\n",
    "        return best_quality, best_t, best_index    \n",
    "  \n",
    "    def build_tree(self, x, y, depth=0):\n",
    "        quality, t, index = self.find_best_split(x, y)\n",
    "        if quality == 0 or (self.max_depth and depth > self.max_depth):\n",
    "            return Leaf(x, y)\n",
    "\n",
    "        true_data, false_data, true_y, false_y = self.split(x, y, index, t)\n",
    "        true_branch = self.build_tree(true_data, true_y, depth+1)\n",
    "        false_branch = self.build_tree(false_data, false_y, depth+1)\n",
    "\n",
    "        return Node(index, t, true_branch, false_branch)\n",
    "\n",
    "    def print_tree(self):\n",
    "        def print_node(node, spacing=\"\"):\n",
    "            if isinstance(node, Leaf):\n",
    "                print(spacing + \"Прогноз:\", node.prediction)\n",
    "                return\n",
    "\n",
    "            print(spacing + 'Индекс', str(node.index))\n",
    "            print(spacing + 'Порог', str(node.t))\n",
    "\n",
    "            print (spacing + '--> True:')\n",
    "            print_node(node.true_branch, spacing + \"  \")\n",
    "\n",
    "            print (spacing + '--> False:')\n",
    "            print_node(node.false_branch, spacing + \"  \")\n",
    "        \n",
    "        print_node(self.tree_)\n",
    "    \n",
    "    def fit(self, X, y):\n",
    "        if self.max_features and self.max_features < X.shape[1]:\n",
    "            self.n_features = self.max_features\n",
    "        else:\n",
    "            self.n_features = X.shape[1]\n",
    "\n",
    "        self.tree_ = self.build_tree(X, y)\n",
    "        return self\n",
    "\n",
    "    def predict(self, X):\n",
    "        def predict_object(obj, node):\n",
    "            if isinstance(node, Leaf):\n",
    "                return node.prediction\n",
    "            if obj[node.index] <= node.t:\n",
    "                return predict_object(obj, node.true_branch)\n",
    "            else:\n",
    "                return predict_object(obj, node.false_branch)\n",
    "\n",
    "        y = []\n",
    "        for obj in X:\n",
    "            prediction = predict_object(obj, self.tree_)\n",
    "            y.append(prediction)\n",
    "        return y"
   ]
  },
  {
   "cell_type": "code",
   "execution_count": 4,
   "metadata": {},
   "outputs": [],
   "source": [
    "def print_score(model, X_train, y_train, X_test, y_test):\n",
    "    y_pred = model.predict(X_train)\n",
    "    train_score = r2_score(y_train, y_pred)\n",
    "    \n",
    "    y_pred = model.predict(X_test)\n",
    "    test_score = r2_score(y_test, y_pred)\n",
    "\n",
    "    print(f'Train Score {train_score:0.4f}\\nTest Score {test_score:0.4f}')\n",
    "    return train_score, test_score"
   ]
  },
  {
   "cell_type": "markdown",
   "metadata": {
    "colab_type": "text",
    "id": "sWm0sO22abXZ"
   },
   "source": [
    "## Проверка решения"
   ]
  },
  {
   "cell_type": "code",
   "execution_count": 5,
   "metadata": {
    "colab": {},
    "colab_type": "code",
    "id": "wnDPkwVJabYA"
   },
   "outputs": [],
   "source": [
    "X_train, X_test, y_train, y_test = model_selection.train_test_split(X, y, test_size = 0.3, random_state = 1)"
   ]
  },
  {
   "cell_type": "code",
   "execution_count": 6,
   "metadata": {
    "colab": {},
    "colab_type": "code",
    "id": "UbbvkqvOabYD"
   },
   "outputs": [
    {
     "name": "stdout",
     "output_type": "stream",
     "text": [
      "Индекс 1\n",
      "Порог 0.11092258970986608\n",
      "--> True:\n",
      "  Индекс 0\n",
      "  Порог 0.24196227156603412\n",
      "  --> True:\n",
      "    Индекс 0\n",
      "    Порог -0.8895144296255233\n",
      "    --> True:\n",
      "      Прогноз: -151.60596503865037\n",
      "    --> False:\n",
      "      Индекс 1\n",
      "      Порог -0.3220615162056756\n",
      "      --> True:\n",
      "        Индекс 1\n",
      "        Порог -1.168678037619532\n",
      "        --> True:\n",
      "          Прогноз: -113.12234795368772\n",
      "        --> False:\n",
      "          Прогноз: -84.09364501364462\n",
      "      --> False:\n",
      "        Прогноз: -38.77531989980311\n",
      "  --> False:\n",
      "    Индекс 1\n",
      "    Порог -0.9093874547947389\n",
      "    --> True:\n",
      "      Прогноз: -23.4504745677586\n",
      "    --> False:\n",
      "      Прогноз: 11.09480500834991\n",
      "--> False:\n",
      "  Индекс 0\n",
      "  Порог -0.6800247215784908\n",
      "  --> True:\n",
      "    Прогноз: -63.94204215541255\n",
      "  --> False:\n",
      "    Индекс 0\n",
      "    Порог 0.33126343140356396\n",
      "    --> True:\n",
      "      Индекс 1\n",
      "      Порог 1.0571222262189157\n",
      "      --> True:\n",
      "        Индекс 0\n",
      "        Порог -0.16128571166600914\n",
      "        --> True:\n",
      "          Прогноз: 13.686461017729068\n",
      "        --> False:\n",
      "          Прогноз: 66.71940392451098\n",
      "      --> False:\n",
      "        Прогноз: 131.46903289549687\n",
      "    --> False:\n",
      "      Индекс 1\n",
      "      Порог 0.4738329209117875\n",
      "      --> True:\n",
      "        Прогноз: 134.89478792135597\n",
      "      --> False:\n",
      "        Прогноз: 181.08208830393178\n"
     ]
    }
   ],
   "source": [
    "model = DecisionTreeRegressor()\n",
    "model.fit(X_train, y_train)\n",
    "model.print_tree()"
   ]
  },
  {
   "cell_type": "code",
   "execution_count": 7,
   "metadata": {
    "colab": {},
    "colab_type": "code",
    "id": "CyvzFQp3abYI"
   },
   "outputs": [
    {
     "name": "stdout",
     "output_type": "stream",
     "text": [
      "Train Score 0.9022\n",
      "Test Score 0.8615\n"
     ]
    },
    {
     "data": {
      "text/plain": [
       "(0.9022265188452246, 0.8615001836234027)"
      ]
     },
     "execution_count": 7,
     "metadata": {},
     "output_type": "execute_result"
    }
   ],
   "source": [
    "print_score(model, X_train, y_train, X_test, y_test)"
   ]
  },
  {
   "cell_type": "code",
   "execution_count": 8,
   "metadata": {},
   "outputs": [
    {
     "name": "stdout",
     "output_type": "stream",
     "text": [
      "Train Score 1.0000\n",
      "Test Score 0.8888\n"
     ]
    },
    {
     "data": {
      "text/plain": [
       "(1.0, 0.8888124432621697)"
      ]
     },
     "execution_count": 8,
     "metadata": {},
     "output_type": "execute_result"
    }
   ],
   "source": [
    "# min_samples_leaf = 1\n",
    "model = DecisionTreeRegressor(min_samples_leaf=1)\n",
    "model.fit(X_train, y_train)\n",
    "print_score(model, X_train, y_train, X_test, y_test)"
   ]
  },
  {
   "cell_type": "code",
   "execution_count": 9,
   "metadata": {},
   "outputs": [
    {
     "name": "stdout",
     "output_type": "stream",
     "text": [
      "Train Score 0.5403\n",
      "Test Score 0.5291\n",
      "Индекс 0\n",
      "Порог -0.3427145165267695\n",
      "--> True:\n",
      "  Индекс 0\n",
      "  Порог -1.1063349740060282\n",
      "  --> True:\n",
      "    Прогноз: -142.07341164917338\n",
      "  --> False:\n",
      "    Индекс 0\n",
      "    Порог -0.7020530938773524\n",
      "    --> True:\n",
      "      Прогноз: -70.33070071261763\n",
      "    --> False:\n",
      "      Индекс 0\n",
      "      Порог -0.5297602037670388\n",
      "      --> True:\n",
      "        Прогноз: -16.070124913551847\n",
      "      --> False:\n",
      "        Прогноз: -50.18517377187141\n",
      "--> False:\n",
      "  Индекс 0\n",
      "  Порог 0.6256673477650062\n",
      "  --> True:\n",
      "    Индекс 0\n",
      "    Порог 0.06023020994102644\n",
      "    --> True:\n",
      "      Индекс 0\n",
      "      Порог -0.11564828238824053\n",
      "      --> True:\n",
      "        Прогноз: 8.42835198478891\n",
      "      --> False:\n",
      "        Прогноз: 61.80042077570741\n",
      "    --> False:\n",
      "      Индекс 0\n",
      "      Порог 0.24196227156603412\n",
      "      --> True:\n",
      "        Прогноз: -15.270939202513631\n",
      "      --> False:\n",
      "        Прогноз: 21.018822295806768\n",
      "  --> False:\n",
      "    Индекс 0\n",
      "    Порог 0.9154021177020741\n",
      "    --> True:\n",
      "      Прогноз: 87.5196160249138\n",
      "    --> False:\n",
      "      Прогноз: 129.11227201746306\n"
     ]
    }
   ],
   "source": [
    "# max_features = 1\n",
    "model = DecisionTreeRegressor(max_features=1)\n",
    "model.fit(X_train, y_train)\n",
    "print_score(model, X_train, y_train, X_test, y_test)\n",
    "model.print_tree()"
   ]
  },
  {
   "cell_type": "code",
   "execution_count": 10,
   "metadata": {},
   "outputs": [
    {
     "name": "stdout",
     "output_type": "stream",
     "text": [
      "Train Score 0.7097\n",
      "Test Score 0.6324\n",
      "Индекс 1\n",
      "Порог 0.11092258970986608\n",
      "--> True:\n",
      "  Индекс 0\n",
      "  Порог 0.24196227156603412\n",
      "  --> True:\n",
      "    Прогноз: -94.2236084507472\n",
      "  --> False:\n",
      "    Прогноз: -6.177834779704346\n",
      "--> False:\n",
      "  Индекс 0\n",
      "  Порог -0.6800247215784908\n",
      "  --> True:\n",
      "    Прогноз: -63.94204215541255\n",
      "  --> False:\n",
      "    Прогноз: 100.61562662335766\n"
     ]
    }
   ],
   "source": [
    "# max_depth = 1\n",
    "model = DecisionTreeRegressor(max_depth=1)\n",
    "model.fit(X_train, y_train)\n",
    "print_score(model, X_train, y_train, X_test, y_test)\n",
    "model.print_tree()"
   ]
  },
  {
   "cell_type": "code",
   "execution_count": 11,
   "metadata": {
    "colab": {},
    "colab_type": "code",
    "id": "TEHbV9hXabYW",
    "outputId": "fd90ddf4-88a0-4721-8681-c79bdfb405d8"
   },
   "outputs": [
    {
     "name": "stdout",
     "output_type": "stream",
     "text": [
      "Train Score 1.0000\n",
      "Test Score 0.8888\n"
     ]
    }
   ],
   "source": [
    "model = DecisionTreeRegressor(min_samples_leaf=1)\n",
    "model.fit(X_train, y_train)\n",
    "train_score, test_score = print_score(model, X_train, y_train, X_test, y_test)"
   ]
  },
  {
   "cell_type": "code",
   "execution_count": 12,
   "metadata": {
    "colab": {},
    "colab_type": "code",
    "id": "TEHbV9hXabYW",
    "outputId": "fd90ddf4-88a0-4721-8681-c79bdfb405d8"
   },
   "outputs": [
    {
     "data": {
      "image/png": "[encoded data removed]",
      "text/plain": [
       "<Figure size 1152x504 with 2 Axes>"
      ]
     },
     "metadata": {
      "needs_background": "light"
     },
     "output_type": "display_data"
    }
   ],
   "source": [
    "from matplotlib.colors import ListedColormap\n",
    "light_colors = ListedColormap(['lightcoral', 'lightblue'])\n",
    "colors = ListedColormap(['red', 'blue'])\n",
    "\n",
    "def get_meshgrid(data, step=.05, border=1.2):\n",
    "    x_min, x_max = data[:, 0].min() - border, data[:, 0].max() + border\n",
    "    y_min, y_max = data[:, 1].min() - border, data[:, 1].max() + border\n",
    "    return np.meshgrid(np.arange(x_min, x_max, step), np.arange(y_min, y_max, step))\n",
    "\n",
    "plt.figure(figsize = (16, 7))\n",
    "\n",
    "# график обучающей выборки\n",
    "plt.subplot(1,2,1)\n",
    "xx, yy = get_meshgrid(X_train)\n",
    "mesh_predictions = np.array(model.predict(np.c_[xx.ravel(), yy.ravel()])).reshape(xx.shape)\n",
    "plt.pcolormesh(xx, yy, mesh_predictions, cmap = light_colors)\n",
    "plt.scatter(X_train[:, 0], X_train[:, 1], c = y_train, cmap = colors)\n",
    "plt.title(f'Train R2 score={train_score:.2f}')\n",
    "\n",
    "# график тестовой выборки\n",
    "plt.subplot(1,2,2)\n",
    "plt.pcolormesh(xx, yy, mesh_predictions, cmap = light_colors)\n",
    "plt.scatter(X_test[:, 0], X_test[:, 1], c = y_test, cmap = colors)\n",
    "plt.title(f'Test R2 score={test_score:.2f}')\n",
    "plt.show()"
   ]
  }
 ],
 "metadata": {
  "colab": {
   "collapsed_sections": [],
   "name": "Lesson_4.ipynb",
   "provenance": []
  },
  "kernelspec": {
   "display_name": "Python 3",
   "language": "python",
   "name": "python3"
  },
  "language_info": {
   "codemirror_mode": {
    "name": "ipython",
    "version": 3
   },
   "file_extension": ".py",
   "mimetype": "text/x-python",
   "name": "python",
   "nbconvert_exporter": "python",
   "pygments_lexer": "ipython3",
   "version": "3.7.1"
  }
 },
 "nbformat": 4,
 "nbformat_minor": 1
}
